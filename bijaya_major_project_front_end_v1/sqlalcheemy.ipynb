{
 "cells": [
  {
   "cell_type": "code",
   "execution_count": 1,
   "metadata": {},
   "outputs": [
    {
     "data": {
      "text/plain": [
       "'2.0.25'"
      ]
     },
     "execution_count": 1,
     "metadata": {},
     "output_type": "execute_result"
    }
   ],
   "source": [
    "import sqlalchemy\n",
    "sqlalchemy.__version__  "
   ]
  },
  {
   "cell_type": "code",
   "execution_count": 20,
   "metadata": {},
   "outputs": [
    {
     "name": "stdout",
     "output_type": "stream",
     "text": [
      "2024-02-26 00:34:04,873 INFO sqlalchemy.engine.Engine BEGIN (implicit)\n",
      "2024-02-26 00:34:04,876 INFO sqlalchemy.engine.Engine SELECT plants.id AS plants_id, plants.name AS plants_name, plants.last_watered AS plants_last_watered \n",
      "FROM plants\n",
      "2024-02-26 00:34:04,877 INFO sqlalchemy.engine.Engine [generated in 0.00146s] ()\n"
     ]
    },
    {
     "data": {
      "text/plain": [
       "[{'plant_id': 'test', 'timestamp': datetime.datetime(2024, 2, 25, 18, 37, 41)},\n",
       " {'plant_id': '\"hi_plant\"',\n",
       "  'timestamp': datetime.datetime(2024, 2, 25, 18, 43, 12)}]"
      ]
     },
     "execution_count": 20,
     "metadata": {},
     "output_type": "execute_result"
    }
   ],
   "source": [
    "# Function to add a plant to the database\n",
    "from sql_alcmehy_model import Plant, Disease\n",
    "from sqlalchemy import create_engine\n",
    "from sqlalchemy.orm import sessionmaker\n",
    "import json\n",
    "# Create an SQLite database file\n",
    "engine = create_engine('sqlite:///example.db', echo=True)\n",
    "\n",
    "# Create a session to interact with the database\n",
    "Session = sessionmaker(bind=engine)\n",
    "session = Session()\n",
    "\n",
    "def water_plant(plant_id):\n",
    "        new_watering_data = Plant(name=json.dumps(plant_id))# , image_path=image_path)\n",
    "        session.add(new_watering_data)\n",
    "        session.commit()\n",
    "\n",
    "def add_disease(name, plant_id):\n",
    "    new_disease = Disease(name=name, plant_ids=json.dumps(plant_id))\n",
    "    session.add(new_disease)\n",
    "    session.commit()\n",
    "\n",
    "def get_one_disease(name):\n",
    "    return session.query(Disease).filter(Disease.name == name).first()\n",
    "\n",
    "def get_all_diseases():\n",
    "    return [{'plant_id': i.plant_ids, \"timestamp\": i.timestamp, \"name\": i.name} for i in session.query(Disease).all()]\n",
    "\n",
    "def get_all_waterings():\n",
    "    return [{'plant_id': i.name, \"timestamp\": i.last_watered} for i in session.query(Plant).all()]\n",
    "\n",
    "\n",
    "# water_plant('hi_plant')\n",
    "# add_disease('hi_disease', 'hi_plant')\n",
    "# print(get_one_disease('hi_disease').plant_ids)\n",
    "# get_all_diseases()\n",
    "get_all_waterings()"
   ]
  },
  {
   "cell_type": "code",
   "execution_count": 3,
   "metadata": {},
   "outputs": [
    {
     "name": "stdout",
     "output_type": "stream",
     "text": [
      "2024-02-09 21:50:39,391 INFO sqlalchemy.engine.Engine BEGIN (implicit)\n",
      "2024-02-09 21:50:39,401 INFO sqlalchemy.engine.Engine PRAGMA main.table_info(\"users\")\n",
      "2024-02-09 21:50:39,403 INFO sqlalchemy.engine.Engine [raw sql] ()\n",
      "2024-02-09 21:50:39,405 INFO sqlalchemy.engine.Engine PRAGMA temp.table_info(\"users\")\n",
      "2024-02-09 21:50:39,406 INFO sqlalchemy.engine.Engine [raw sql] ()\n",
      "2024-02-09 21:50:39,408 INFO sqlalchemy.engine.Engine \n",
      "CREATE TABLE users (\n",
      "\tid INTEGER NOT NULL, \n",
      "\tnamee VARCHAR(50), \n",
      "\tage INTEGER, \n",
      "\tPRIMARY KEY (id)\n",
      ")\n",
      "\n",
      "\n",
      "2024-02-09 21:50:39,414 INFO sqlalchemy.engine.Engine [no key 0.00596s] ()\n",
      "2024-02-09 21:50:39,417 INFO sqlalchemy.engine.Engine COMMIT\n"
     ]
    },
    {
     "name": "stderr",
     "output_type": "stream",
     "text": [
      "/tmp/ipykernel_3879/3656761583.py:9: MovedIn20Warning: The ``declarative_base()`` function is now available as sqlalchemy.orm.declarative_base(). (deprecated since: 2.0) (Background on SQLAlchemy 2.0 at: https://sqlalche.me/e/b8d9)\n",
      "  Base = declarative_base()\n"
     ]
    },
    {
     "ename": "TypeError",
     "evalue": "'name' is an invalid keyword argument for User",
     "output_type": "error",
     "traceback": [
      "\u001b[0;31m---------------------------------------------------------------------------\u001b[0m",
      "\u001b[0;31mTypeError\u001b[0m                                 Traceback (most recent call last)",
      "Cell \u001b[0;32mIn[3], line 26\u001b[0m\n\u001b[1;32m     23\u001b[0m session \u001b[38;5;241m=\u001b[39m Session()\n\u001b[1;32m     25\u001b[0m \u001b[38;5;66;03m# Insert data into the database\u001b[39;00m\n\u001b[0;32m---> 26\u001b[0m user1 \u001b[38;5;241m=\u001b[39m \u001b[43mUser\u001b[49m\u001b[43m(\u001b[49m\u001b[43mname\u001b[49m\u001b[38;5;241;43m=\u001b[39;49m\u001b[38;5;124;43m'\u001b[39;49m\u001b[38;5;124;43mJohn Doe\u001b[39;49m\u001b[38;5;124;43m'\u001b[39;49m\u001b[43m,\u001b[49m\u001b[43m \u001b[49m\u001b[43mage\u001b[49m\u001b[38;5;241;43m=\u001b[39;49m\u001b[38;5;241;43m30\u001b[39;49m\u001b[43m)\u001b[49m\n\u001b[1;32m     27\u001b[0m user2 \u001b[38;5;241m=\u001b[39m User(name\u001b[38;5;241m=\u001b[39m\u001b[38;5;124m'\u001b[39m\u001b[38;5;124mJane Smith\u001b[39m\u001b[38;5;124m'\u001b[39m, age\u001b[38;5;241m=\u001b[39m\u001b[38;5;241m25\u001b[39m)\n\u001b[1;32m     29\u001b[0m session\u001b[38;5;241m.\u001b[39madd_all([user1, user2])\n",
      "File \u001b[0;32m<string>:4\u001b[0m, in \u001b[0;36m__init__\u001b[0;34m(self, **kwargs)\u001b[0m\n",
      "File \u001b[0;32m~/Documents/ioe_env/lib/python3.11/site-packages/sqlalchemy/orm/state.py:566\u001b[0m, in \u001b[0;36mInstanceState._initialize_instance\u001b[0;34m(*mixed, **kwargs)\u001b[0m\n\u001b[1;32m    564\u001b[0m     manager\u001b[38;5;241m.\u001b[39moriginal_init(\u001b[38;5;241m*\u001b[39mmixed[\u001b[38;5;241m1\u001b[39m:], \u001b[38;5;241m*\u001b[39m\u001b[38;5;241m*\u001b[39mkwargs)\n\u001b[1;32m    565\u001b[0m \u001b[38;5;28;01mexcept\u001b[39;00m:\n\u001b[0;32m--> 566\u001b[0m \u001b[43m    \u001b[49m\u001b[38;5;28;43;01mwith\u001b[39;49;00m\u001b[43m \u001b[49m\u001b[43mutil\u001b[49m\u001b[38;5;241;43m.\u001b[39;49m\u001b[43msafe_reraise\u001b[49m\u001b[43m(\u001b[49m\u001b[43m)\u001b[49m\u001b[43m:\u001b[49m\n\u001b[1;32m    567\u001b[0m \u001b[43m        \u001b[49m\u001b[43mmanager\u001b[49m\u001b[38;5;241;43m.\u001b[39;49m\u001b[43mdispatch\u001b[49m\u001b[38;5;241;43m.\u001b[39;49m\u001b[43minit_failure\u001b[49m\u001b[43m(\u001b[49m\u001b[38;5;28;43mself\u001b[39;49m\u001b[43m,\u001b[49m\u001b[43m \u001b[49m\u001b[43margs\u001b[49m\u001b[43m,\u001b[49m\u001b[43m \u001b[49m\u001b[43mkwargs\u001b[49m\u001b[43m)\u001b[49m\n",
      "File \u001b[0;32m~/Documents/ioe_env/lib/python3.11/site-packages/sqlalchemy/util/langhelpers.py:146\u001b[0m, in \u001b[0;36msafe_reraise.__exit__\u001b[0;34m(self, type_, value, traceback)\u001b[0m\n\u001b[1;32m    144\u001b[0m     \u001b[38;5;28;01massert\u001b[39;00m exc_value \u001b[38;5;129;01mis\u001b[39;00m \u001b[38;5;129;01mnot\u001b[39;00m \u001b[38;5;28;01mNone\u001b[39;00m\n\u001b[1;32m    145\u001b[0m     \u001b[38;5;28mself\u001b[39m\u001b[38;5;241m.\u001b[39m_exc_info \u001b[38;5;241m=\u001b[39m \u001b[38;5;28;01mNone\u001b[39;00m  \u001b[38;5;66;03m# remove potential circular references\u001b[39;00m\n\u001b[0;32m--> 146\u001b[0m     \u001b[38;5;28;01mraise\u001b[39;00m exc_value\u001b[38;5;241m.\u001b[39mwith_traceback(exc_tb)\n\u001b[1;32m    147\u001b[0m \u001b[38;5;28;01melse\u001b[39;00m:\n\u001b[1;32m    148\u001b[0m     \u001b[38;5;28mself\u001b[39m\u001b[38;5;241m.\u001b[39m_exc_info \u001b[38;5;241m=\u001b[39m \u001b[38;5;28;01mNone\u001b[39;00m  \u001b[38;5;66;03m# remove potential circular references\u001b[39;00m\n",
      "File \u001b[0;32m~/Documents/ioe_env/lib/python3.11/site-packages/sqlalchemy/orm/state.py:564\u001b[0m, in \u001b[0;36mInstanceState._initialize_instance\u001b[0;34m(*mixed, **kwargs)\u001b[0m\n\u001b[1;32m    561\u001b[0m manager\u001b[38;5;241m.\u001b[39mdispatch\u001b[38;5;241m.\u001b[39minit(\u001b[38;5;28mself\u001b[39m, args, kwargs)\n\u001b[1;32m    563\u001b[0m \u001b[38;5;28;01mtry\u001b[39;00m:\n\u001b[0;32m--> 564\u001b[0m     \u001b[43mmanager\u001b[49m\u001b[38;5;241;43m.\u001b[39;49m\u001b[43moriginal_init\u001b[49m\u001b[43m(\u001b[49m\u001b[38;5;241;43m*\u001b[39;49m\u001b[43mmixed\u001b[49m\u001b[43m[\u001b[49m\u001b[38;5;241;43m1\u001b[39;49m\u001b[43m:\u001b[49m\u001b[43m]\u001b[49m\u001b[43m,\u001b[49m\u001b[43m \u001b[49m\u001b[38;5;241;43m*\u001b[39;49m\u001b[38;5;241;43m*\u001b[39;49m\u001b[43mkwargs\u001b[49m\u001b[43m)\u001b[49m\n\u001b[1;32m    565\u001b[0m \u001b[38;5;28;01mexcept\u001b[39;00m:\n\u001b[1;32m    566\u001b[0m     \u001b[38;5;28;01mwith\u001b[39;00m util\u001b[38;5;241m.\u001b[39msafe_reraise():\n",
      "File \u001b[0;32m~/Documents/ioe_env/lib/python3.11/site-packages/sqlalchemy/orm/decl_base.py:2142\u001b[0m, in \u001b[0;36m_declarative_constructor\u001b[0;34m(self, **kwargs)\u001b[0m\n\u001b[1;32m   2140\u001b[0m \u001b[38;5;28;01mfor\u001b[39;00m k \u001b[38;5;129;01min\u001b[39;00m kwargs:\n\u001b[1;32m   2141\u001b[0m     \u001b[38;5;28;01mif\u001b[39;00m \u001b[38;5;129;01mnot\u001b[39;00m \u001b[38;5;28mhasattr\u001b[39m(cls_, k):\n\u001b[0;32m-> 2142\u001b[0m         \u001b[38;5;28;01mraise\u001b[39;00m \u001b[38;5;167;01mTypeError\u001b[39;00m(\n\u001b[1;32m   2143\u001b[0m             \u001b[38;5;124m\"\u001b[39m\u001b[38;5;132;01m%r\u001b[39;00m\u001b[38;5;124m is an invalid keyword argument for \u001b[39m\u001b[38;5;132;01m%s\u001b[39;00m\u001b[38;5;124m\"\u001b[39m \u001b[38;5;241m%\u001b[39m (k, cls_\u001b[38;5;241m.\u001b[39m\u001b[38;5;18m__name__\u001b[39m)\n\u001b[1;32m   2144\u001b[0m         )\n\u001b[1;32m   2145\u001b[0m     \u001b[38;5;28msetattr\u001b[39m(\u001b[38;5;28mself\u001b[39m, k, kwargs[k])\n",
      "\u001b[0;31mTypeError\u001b[0m: 'name' is an invalid keyword argument for User"
     ]
    }
   ],
   "source": [
    "from sqlalchemy import create_engine, Column, Integer, String, Sequence\n",
    "from sqlalchemy.ext.declarative import declarative_base\n",
    "from sqlalchemy.orm import sessionmaker\n",
    "\n",
    "# Create an SQLite database in memory\n",
    "engine = create_engine('sqlite:///:memory:', echo=True)\n",
    "\n",
    "# Declare a base class for declarative class definitions\n",
    "Base = declarative_base()\n",
    "\n",
    "# Define a simple model\n",
    "class User(Base):\n",
    "    __tablename__ = 'users'\n",
    "    id = Column(Integer, Sequence('user_id_seq'), primary_key=True)\n",
    "    namee = Column(String(50))\n",
    "    age = Column(Integer)\n",
    "\n",
    "# Create the table in the database\n",
    "Base.metadata.create_all(engine)\n",
    "\n",
    "# Create a session to interact with the database\n",
    "Session = sessionmaker(bind=engine)\n",
    "session = Session()\n",
    "\n",
    "# Insert data into the database\n",
    "user1 = User(name='John Doe', age=30)\n",
    "user2 = User(name='Jane Smith', age=25)\n",
    "\n",
    "session.add_all([user1, user2])\n",
    "session.commit()\n",
    "\n",
    "# Retrieve data from the database\n",
    "all_users = session.query(User).all()\n",
    "\n",
    "# Print the retrieved data\n",
    "for user in all_users:\n",
    "    print(f\"User ID: {user.id}, Name: {user.name}, Age: {user.age}\")\n",
    "\n",
    "# Close the session\n",
    "session.close()\n"
   ]
  },
  {
   "cell_type": "code",
   "execution_count": 6,
   "metadata": {},
   "outputs": [
    {
     "name": "stdout",
     "output_type": "stream",
     "text": [
      "2024-02-09 21:56:03,687 INFO sqlalchemy.engine.Engine BEGIN (implicit)\n",
      "2024-02-09 21:56:03,689 INFO sqlalchemy.engine.Engine PRAGMA main.table_info(\"users\")\n",
      "2024-02-09 21:56:03,690 INFO sqlalchemy.engine.Engine [raw sql] ()\n",
      "2024-02-09 21:56:03,692 INFO sqlalchemy.engine.Engine COMMIT\n",
      "2024-02-09 21:56:03,694 INFO sqlalchemy.engine.Engine BEGIN (implicit)\n",
      "2024-02-09 21:56:03,698 INFO sqlalchemy.engine.Engine INSERT INTO users (name, age) VALUES (?, ?)\n",
      "2024-02-09 21:56:03,699 INFO sqlalchemy.engine.Engine [generated in 0.00143s] ('John Doe', 30)\n",
      "2024-02-09 21:56:03,702 INFO sqlalchemy.engine.Engine COMMIT\n",
      "2024-02-09 21:56:03,707 INFO sqlalchemy.engine.Engine BEGIN (implicit)\n",
      "2024-02-09 21:56:03,708 INFO sqlalchemy.engine.Engine INSERT INTO users (name, age) VALUES (?, ?)\n",
      "2024-02-09 21:56:03,710 INFO sqlalchemy.engine.Engine [cached since 0.0116s ago] ('Jane Smith', 25)\n",
      "2024-02-09 21:56:03,712 INFO sqlalchemy.engine.Engine COMMIT\n",
      "2024-02-09 21:56:03,717 INFO sqlalchemy.engine.Engine BEGIN (implicit)\n",
      "2024-02-09 21:56:03,718 INFO sqlalchemy.engine.Engine SELECT users.id AS users_id, users.name AS users_name, users.age AS users_age \n",
      "FROM users\n",
      "2024-02-09 21:56:03,719 INFO sqlalchemy.engine.Engine [generated in 0.00071s] ()\n",
      "User ID: 2, Name: Jane Smith, Age: 25\n",
      "User ID: 3, Name: John Doe, Age: 30\n",
      "User ID: 4, Name: Jane Smith, Age: 25\n",
      "User ID: 5, Name: John Doe, Age: 30\n",
      "User ID: 6, Name: Jane Smith, Age: 25\n",
      "2024-02-09 21:56:03,722 INFO sqlalchemy.engine.Engine SELECT users.id AS users_id, users.name AS users_name, users.age AS users_age \n",
      "FROM users \n",
      "WHERE users.id = ?\n",
      "2024-02-09 21:56:03,723 INFO sqlalchemy.engine.Engine [generated in 0.00102s] (1,)\n",
      "User with ID 1 not found.\n",
      "2024-02-09 21:56:03,725 INFO sqlalchemy.engine.Engine ROLLBACK\n"
     ]
    },
    {
     "name": "stderr",
     "output_type": "stream",
     "text": [
      "/tmp/ipykernel_3879/4012369338.py:6: MovedIn20Warning: The ``declarative_base()`` function is now available as sqlalchemy.orm.declarative_base(). (deprecated since: 2.0) (Background on SQLAlchemy 2.0 at: https://sqlalche.me/e/b8d9)\n",
      "  Base = declarative_base()\n",
      "/tmp/ipykernel_3879/4012369338.py:25: LegacyAPIWarning: The Query.get() method is considered legacy as of the 1.x series of SQLAlchemy and becomes a legacy construct in 2.0. The method is now available as Session.get() (deprecated since: 2.0) (Background on SQLAlchemy 2.0 at: https://sqlalche.me/e/b8d9)\n",
      "  user = session.query(User).get(user_id)\n"
     ]
    }
   ],
   "source": [
    "from sqlalchemy import create_engine, Column, Integer, String, Sequence\n",
    "from sqlalchemy.ext.declarative import declarative_base\n",
    "from sqlalchemy.orm import sessionmaker\n",
    "\n",
    "# Declare a base class for declarative class definitions\n",
    "Base = declarative_base()\n",
    "\n",
    "# Define a simple model\n",
    "class User(Base):\n",
    "    __tablename__ = 'users'\n",
    "    id = Column(Integer, Sequence('user_id_seq'), primary_key=True)\n",
    "    name = Column(String(50))\n",
    "    age = Column(Integer)\n",
    "\n",
    "    # Function to add a new user to the database\n",
    "    @staticmethod\n",
    "    def add_user(session, name, age):\n",
    "        user = User(name=name, age=age)\n",
    "        session.add(user)\n",
    "        session.commit()\n",
    "\n",
    "    # Function to remove a user from the database\n",
    "    @staticmethod\n",
    "    def remove_user(session, user_id):\n",
    "        user = session.query(User).get(user_id)\n",
    "        if user:\n",
    "            session.delete(user)\n",
    "            session.commit()\n",
    "            print(f\"User with ID {user_id} removed successfully.\")\n",
    "        else:\n",
    "            print(f\"User with ID {user_id} not found.\")\n",
    "\n",
    "    # Function to retrieve all users from the database\n",
    "    @staticmethod\n",
    "    def get_all_users(session):\n",
    "        return session.query(User).all()\n",
    "\n",
    "# Create an SQLite database file\n",
    "engine = create_engine('sqlite:///example.db', echo=True)\n",
    "\n",
    "# Create the table in the database\n",
    "Base.metadata.create_all(engine)\n",
    "\n",
    "# Create a session to interact with the database\n",
    "Session = sessionmaker(bind=engine)\n",
    "session = Session()\n",
    "\n",
    "# Add users to the database\n",
    "User.add_user(session, 'John Doe', 30)\n",
    "User.add_user(session, 'Jane Smith', 25)\n",
    "\n",
    "# Retrieve and print all users from the database\n",
    "all_users = User.get_all_users(session)\n",
    "for user in all_users:\n",
    "    print(f\"User ID: {user.id}, Name: {user.name}, Age: {user.age}\")\n",
    "\n",
    "# Remove a user from the database (change the user_id as needed)\n",
    "User.remove_user(session, 1)\n",
    "\n",
    "# Close the session\n",
    "session.close()\n"
   ]
  }
 ],
 "metadata": {
  "kernelspec": {
   "display_name": "ioe_env",
   "language": "python",
   "name": "python3"
  },
  "language_info": {
   "codemirror_mode": {
    "name": "ipython",
    "version": 3
   },
   "file_extension": ".py",
   "mimetype": "text/x-python",
   "name": "python",
   "nbconvert_exporter": "python",
   "pygments_lexer": "ipython3",
   "version": "3.11.6"
  }
 },
 "nbformat": 4,
 "nbformat_minor": 2
}
